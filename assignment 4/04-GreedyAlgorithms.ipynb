{
 "cells": [
  {
   "cell_type": "markdown",
   "metadata": {},
   "source": [
    "# Assignment 4 - Greedy Algorithms\n",
    "## Part 2 - Huffman algorithm \n",
    "We want to create a version of the Huffman algorithm using Python. "
   ]
  },
  {
   "cell_type": "markdown",
   "metadata": {},
   "source": [
    "### 1 - Data structures set up\n",
    "We want to sort our characters using a binary heap. You can implement a binary heap in Python using the [heapq library](https://docs.python.org/3/library/heapq.html). We want to create a `HeapNode` class that will work as the basis for storing our Huffman tree. To use our `HeapNode` class with the `heapq` library, we need to modify some of its built-in arithmetic operations. We want to change the `<` and `=` operations to compare the values of the nodes. "
   ]
  },
  {
   "cell_type": "code",
   "execution_count": 1,
   "metadata": {},
   "outputs": [],
   "source": [
    "class HeapNode:\n",
    "    def __init__(self, character, value):\n",
    "        # TODO: Initialize the HeapNode with a character and value\n",
    "        # We also want to keep track of left_child and right_child,\n",
    "        # so these should be initialized as None\n",
    "        print(\"Example code\")\n",
    "\n",
    "    def __lt__(self, other):\n",
    "        # TODO: check if other is a HeapNode object (return false if it isn't)\n",
    "        # and return a lesser than (<) comparision between the two objects values\n",
    "        print(\"Example code\")\n",
    "\n",
    "    def __eq__(self, other):\n",
    "        # TODO: check if other is a HeapNode object (return false if it isn't)\n",
    "        # and return an equals (==) comparision between the two objects values\n",
    "        print(\"Example code\")\n",
    "\n",
    "    def __str__(self):\n",
    "        # TODO Add a fitting __str__ for printing the Node, could be usefull\n",
    "        # for testing along the way\n",
    "        return \"example code\"\n",
    "\n",
    "    def __repr__(self) -> str:\n",
    "        return self.__str__()\n"
   ]
  },
  {
   "cell_type": "markdown",
   "metadata": {},
   "source": [
    "### 2 - Making the frequency heap \n",
    "\n",
    "Let's start by constructing our frequency heap, we want to take a string as input and count the characters using a dictionary, we then want to input the characters into our heap using the [heapq library](https://docs.python.org/3/library/heapq.html). \n"
   ]
  },
  {
   "cell_type": "code",
   "execution_count": 2,
   "metadata": {},
   "outputs": [],
   "source": [
    "def make_frequency_heap(string: str) -> list:\n",
    "    # Initialize freq dictionary and heap array\n",
    "    freq = {}\n",
    "    heap = []\n",
    "    # TODO loop through the characters in the string and\n",
    "    # insert them into the freq dictionary,\n",
    "    # with the character being they key and the value being the frequency\n",
    "\n",
    "    # TODO insert the values from the freq dictionary into the heap\n",
    "    # using the HeapNode object and the heapq library\n",
    "\n",
    "    return heap\n",
    "\n",
    "\n",
    "teststring = \"ABBCCCDDDD\"\n",
    "heap = make_frequency_heap(teststring)\n",
    "for node in heap:\n",
    "    print(node)\n"
   ]
  },
  {
   "cell_type": "markdown",
   "metadata": {},
   "source": [
    "Expected output should be some form of (depending on your `__str__` implementation): \n",
    "```sh\n",
    "Character: 'A' Value: '1' Left child: 'None' Right child: 'None' \n",
    "Character: 'B' Value: '2' Left child: 'None' Right child: 'None' \n",
    "Character: 'C' Value: '3' Left child: 'None' Right child: 'None' \n",
    "Character: 'D' Value: '4' Left child: 'None' Right child: 'None' \n",
    "```\n"
   ]
  },
  {
   "cell_type": "markdown",
   "metadata": {},
   "source": [
    "### 3 - Merging the codes\n",
    "\n",
    "Next, we want to merge the characters with their frequencies together. Follow the instructions in the pseudocode bellow to merge the heap into a single Huffman tree\n"
   ]
  },
  {
   "cell_type": "code",
   "execution_count": 3,
   "metadata": {},
   "outputs": [],
   "source": [
    "def merge_code(heap: list) -> HeapNode:\n",
    "    # TODO\n",
    "    # While there is more than one node in the heap\n",
    "    # Extract the two nodes with the lowest frequency letters from the heap (remember that the letter with the lowest frequency will always be at the top of the heap)\n",
    "    # Create a new node that has the sum of the values of the two nodes as its value, and the two nodes as left and right child respectively\n",
    "    # Push this new node into the heap\n",
    "\n",
    "    # Return the root of the tree\n",
    "    return heap[0]\n"
   ]
  },
  {
   "cell_type": "markdown",
   "metadata": {},
   "source": [
    "### 4 - Traversing the tree\n",
    "\n",
    "We've now made a program that can construct a Huffman tree using Huffman's algorithm. Now we want to traverse said tree and find out what the Huffman encoding is for each letter. We will do this recursively. We have created the  main function `traverse_huffman()` to set up the variables for you. Your job is to finish the implementation of `traverse_huffman_recursive()`.\n"
   ]
  },
  {
   "cell_type": "code",
   "execution_count": 4,
   "metadata": {},
   "outputs": [],
   "source": [
    "def traverse_huffman(root: HeapNode) -> dict:\n",
    "    # Stores the codes for each letter\n",
    "    codes = {}\n",
    "    # Keeps track of the current code\n",
    "    current_code = \"\"\n",
    "    # traverse recursively\n",
    "    traverse_huffman_recursive(root, current_code, codes)\n",
    "    # return finished encoding\n",
    "    return codes\n",
    "\n",
    "\n",
    "def traverse_huffman_recursive(node: HeapNode, current_code: str, codes: dict) -> None:\n",
    "    # TODO if there exists a character in the node,\n",
    "    # append current_code as the value and the character\n",
    "    # as the key in codes and return\n",
    "\n",
    "    # TODO make the recursive calls, there should be two,\n",
    "    # one for the left side of the tree and one for the right\n",
    "    # When you traverse to the left, append 0 to the current code,\n",
    "    # and 1 if you traverse to the right\n",
    "    return\n"
   ]
  },
  {
   "cell_type": "markdown",
   "metadata": {},
   "source": [
    "### Running the program\n",
    "\n",
    "Here we have a main function to run the whole program, use it to test if you get the correct output: \n"
   ]
  },
  {
   "cell_type": "code",
   "execution_count": 5,
   "metadata": {},
   "outputs": [
    {
     "ename": "IndexError",
     "evalue": "list index out of range",
     "output_type": "error",
     "traceback": [
      "\u001b[0;31m---------------------------------------------------------------------------\u001b[0m",
      "\u001b[0;31mIndexError\u001b[0m                                Traceback (most recent call last)",
      "\u001b[1;32m/Users/sutne/GitLab/TDT4121/assignments/code/04-GreedyAlgorithms.ipynb Cell 12'\u001b[0m in \u001b[0;36m<module>\u001b[0;34m\u001b[0m\n\u001b[1;32m      <a href='vscode-notebook-cell:/Users/sutne/GitLab/TDT4121/assignments/code/04-GreedyAlgorithms.ipynb#ch0000010?line=4'>5</a>\u001b[0m     encoding \u001b[39m=\u001b[39m traverse_huffman(root)\n\u001b[1;32m      <a href='vscode-notebook-cell:/Users/sutne/GitLab/TDT4121/assignments/code/04-GreedyAlgorithms.ipynb#ch0000010?line=5'>6</a>\u001b[0m     \u001b[39mprint\u001b[39m(encoding)\n\u001b[0;32m----> <a href='vscode-notebook-cell:/Users/sutne/GitLab/TDT4121/assignments/code/04-GreedyAlgorithms.ipynb#ch0000010?line=8'>9</a>\u001b[0m main()\n",
      "\u001b[1;32m/Users/sutne/GitLab/TDT4121/assignments/code/04-GreedyAlgorithms.ipynb Cell 12'\u001b[0m in \u001b[0;36mmain\u001b[0;34m()\u001b[0m\n\u001b[1;32m      <a href='vscode-notebook-cell:/Users/sutne/GitLab/TDT4121/assignments/code/04-GreedyAlgorithms.ipynb#ch0000010?line=1'>2</a>\u001b[0m text \u001b[39m=\u001b[39m \u001b[39m\"\u001b[39m\u001b[39mABBBBCCCDDEEEEAAAEEBBBCC\u001b[39m\u001b[39m\"\u001b[39m\n\u001b[1;32m      <a href='vscode-notebook-cell:/Users/sutne/GitLab/TDT4121/assignments/code/04-GreedyAlgorithms.ipynb#ch0000010?line=2'>3</a>\u001b[0m heap \u001b[39m=\u001b[39m make_frequency_heap(text)\n\u001b[0;32m----> <a href='vscode-notebook-cell:/Users/sutne/GitLab/TDT4121/assignments/code/04-GreedyAlgorithms.ipynb#ch0000010?line=3'>4</a>\u001b[0m root \u001b[39m=\u001b[39m merge_code(heap)\n\u001b[1;32m      <a href='vscode-notebook-cell:/Users/sutne/GitLab/TDT4121/assignments/code/04-GreedyAlgorithms.ipynb#ch0000010?line=4'>5</a>\u001b[0m encoding \u001b[39m=\u001b[39m traverse_huffman(root)\n\u001b[1;32m      <a href='vscode-notebook-cell:/Users/sutne/GitLab/TDT4121/assignments/code/04-GreedyAlgorithms.ipynb#ch0000010?line=5'>6</a>\u001b[0m \u001b[39mprint\u001b[39m(encoding)\n",
      "\u001b[1;32m/Users/sutne/GitLab/TDT4121/assignments/code/04-GreedyAlgorithms.ipynb Cell 8'\u001b[0m in \u001b[0;36mmerge_code\u001b[0;34m(heap)\u001b[0m\n\u001b[1;32m      <a href='vscode-notebook-cell:/Users/sutne/GitLab/TDT4121/assignments/code/04-GreedyAlgorithms.ipynb#ch0000006?line=0'>1</a>\u001b[0m \u001b[39mdef\u001b[39;00m \u001b[39mmerge_code\u001b[39m(heap: \u001b[39mlist\u001b[39m) \u001b[39m-\u001b[39m\u001b[39m>\u001b[39m HeapNode:\n\u001b[1;32m      <a href='vscode-notebook-cell:/Users/sutne/GitLab/TDT4121/assignments/code/04-GreedyAlgorithms.ipynb#ch0000006?line=1'>2</a>\u001b[0m     \u001b[39m# TODO\u001b[39;00m\n\u001b[1;32m      <a href='vscode-notebook-cell:/Users/sutne/GitLab/TDT4121/assignments/code/04-GreedyAlgorithms.ipynb#ch0000006?line=2'>3</a>\u001b[0m     \u001b[39m# While there is more than one node in the heap\u001b[39;00m\n\u001b[0;32m   (...)\u001b[0m\n\u001b[1;32m      <a href='vscode-notebook-cell:/Users/sutne/GitLab/TDT4121/assignments/code/04-GreedyAlgorithms.ipynb#ch0000006?line=6'>7</a>\u001b[0m \n\u001b[1;32m      <a href='vscode-notebook-cell:/Users/sutne/GitLab/TDT4121/assignments/code/04-GreedyAlgorithms.ipynb#ch0000006?line=7'>8</a>\u001b[0m     \u001b[39m# Return the root of the tree\u001b[39;00m\n\u001b[0;32m----> <a href='vscode-notebook-cell:/Users/sutne/GitLab/TDT4121/assignments/code/04-GreedyAlgorithms.ipynb#ch0000006?line=8'>9</a>\u001b[0m     \u001b[39mreturn\u001b[39;00m heap[\u001b[39m0\u001b[39;49m]\n",
      "\u001b[0;31mIndexError\u001b[0m: list index out of range"
     ]
    }
   ],
   "source": [
    "def main():\n",
    "    text = \"ABBBBCCCDDEEEEAAAEEBBBCC\"\n",
    "    heap = make_frequency_heap(text)\n",
    "    root = merge_code(heap)\n",
    "    encoding = traverse_huffman(root)\n",
    "    print(encoding)\n",
    "\n",
    "\n",
    "main()\n"
   ]
  },
  {
   "cell_type": "markdown",
   "metadata": {},
   "source": [
    "Expected output: `{'C': '00', 'E': '01', 'D': '100', 'A': '101', 'B': '11'}`\n"
   ]
  }
 ],
 "metadata": {
  "kernelspec": {
   "display_name": "Python 3.9.13 64-bit",
   "language": "python",
   "name": "python3"
  },
  "language_info": {
   "codemirror_mode": {
    "name": "ipython",
    "version": 3
   },
   "file_extension": ".py",
   "mimetype": "text/x-python",
   "name": "python",
   "nbconvert_exporter": "python",
   "pygments_lexer": "ipython3",
   "version": "3.9.13"
  },
  "orig_nbformat": 4,
  "vscode": {
   "interpreter": {
    "hash": "aee8b7b246df8f9039afb4144a1f6fd8d2ca17a180786b69acc140d282b71a49"
   }
  }
 },
 "nbformat": 4,
 "nbformat_minor": 2
}
