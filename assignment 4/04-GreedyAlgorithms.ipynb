{
 "cells": [
  {
   "cell_type": "markdown",
   "metadata": {},
   "source": [
    "# Assignment 4 - Greedy Algorithms\n",
    "## Part 2 - Huffman algorithm \n",
    "We want to create a version of the Huffman algorithm using Python. "
   ]
  },
  {
   "cell_type": "markdown",
   "metadata": {},
   "source": [
    "### 1 - Data structures set up\n",
    "We want to sort our characters using a binary heap. You can implement a binary heap in Python using the [heapq library](https://docs.python.org/3/library/heapq.html). We want to create a `HeapNode` class that will work as the basis for storing our Huffman tree. To use our `HeapNode` class with the `heapq` library, we need to modify some of its built-in arithmetic operations. We want to change the `<` and `=` operations to compare the values of the nodes. "
   ]
  },
  {
   "cell_type": "code",
   "execution_count": 24,
   "metadata": {},
   "outputs": [],
   "source": [
    "import heapq\n",
    "class HeapNode:\n",
    "    def __init__(self, character, value):\n",
    "        # TODO: Initialize the HeapNode with a character and value\n",
    "        # We also want to keep track of left_child and right_child,\n",
    "        # so these should be initialized as None\n",
    "        self.character = character\n",
    "        self.value = value\n",
    "        self.HeapNode = []\n",
    "        heapq.heappush(self.HeapNode, (self.character, self.value))\n",
    "        \n",
    "        self.left_child = None \n",
    "        self.right_child = None \n",
    "\n",
    "\n",
    "    def __lt__(self, other):\n",
    "        # TODO: check if other is a HeapNode object (return false if it isn't)\n",
    "        # and return a lesser than (<) comparision between the two objects values\n",
    "        if self.value < other.value:\n",
    "            return self.value < other.value\n",
    "        else:\n",
    "            return False\n",
    "\n",
    "    def __eq__(self, other):\n",
    "        # TODO: check if other is a HeapNode object (return false if it isn't)\n",
    "        # and return an equals (==) comparision between the two objects values\n",
    "        if other.value == self.value:\n",
    "            return other.value == self.value\n",
    "        else:\n",
    "            return False\n",
    "\n",
    "    def __str__(self):\n",
    "        # TODO Add a fitting __str__ for printing the Node, could be usefull\n",
    "        # for testing along the way\n",
    "        return \"Character:\" + \" \" + str(self.character) + \" \" + \"Value:\" + \" \" + str(self.value) + \" \" + \"Left child:\" + \" \" + str(self.left_child) + \" \" + \"Right child:\" + \" \" + str(self.right_child)\n",
    "\n",
    "    def __repr__(self) -> str:\n",
    "        return self.__str__()\n"
   ]
  },
  {
   "cell_type": "markdown",
   "metadata": {},
   "source": [
    "### 2 - Making the frequency heap \n",
    "\n",
    "Let's start by constructing our frequency heap, we want to take a string as input and count the characters using a dictionary, we then want to input the characters into our heap using the [heapq library](https://docs.python.org/3/library/heapq.html). \n"
   ]
  },
  {
   "cell_type": "code",
   "execution_count": 25,
   "metadata": {},
   "outputs": [
    {
     "name": "stdout",
     "output_type": "stream",
     "text": [
      "Character: A Value: 1 Left child: None Right child: None\n",
      "Character: B Value: 2 Left child: None Right child: None\n",
      "Character: C Value: 3 Left child: None Right child: None\n",
      "Character: D Value: 4 Left child: None Right child: None\n"
     ]
    }
   ],
   "source": [
    "def make_frequency_heap(string: str) -> list:\n",
    "    # Initialize freq dictionary and heap array\n",
    "    freq = {}\n",
    "    heap = []\n",
    "    # TODO loop through the characters in the string and\n",
    "    # insert them into the freq dictionary,\n",
    "    # with the character being they key and the value being the frequency\n",
    "    for character in string:\n",
    "        if character in freq:\n",
    "            freq[character] += 1\n",
    "        else:\n",
    "            freq[character] = 1\n",
    "    # TODO insert the values from the freq dictionary into the heap\n",
    "    # using the HeapNode object and the heapq library\n",
    "    for i in freq:\n",
    "        heapq.heappush(heap, HeapNode(i, freq[i]))   \n",
    "          \n",
    "    return heap\n",
    "\n",
    "\n",
    "teststring = \"ABBCCCDDDD\"\n",
    "heap = make_frequency_heap(teststring)\n",
    "for node in heap:\n",
    "    print(node)\n"
   ]
  },
  {
   "cell_type": "markdown",
   "metadata": {},
   "source": [
    "Expected output should be some form of (depending on your `__str__` implementation): \n",
    "```sh\n",
    "Character: 'A' Value: '1' Left child: 'None' Right child: 'None' \n",
    "Character: 'B' Value: '2' Left child: 'None' Right child: 'None' \n",
    "Character: 'C' Value: '3' Left child: 'None' Right child: 'None' \n",
    "Character: 'D' Value: '4' Left child: 'None' Right child: 'None' \n",
    "```\n"
   ]
  },
  {
   "cell_type": "markdown",
   "metadata": {},
   "source": [
    "### 3 - Merging the codes\n",
    "\n",
    "Next, we want to merge the characters with their frequencies together. Follow the instructions in the pseudocode bellow to merge the heap into a single Huffman tree\n"
   ]
  },
  {
   "cell_type": "code",
   "execution_count": 26,
   "metadata": {},
   "outputs": [],
   "source": [
    "def merge_code(heap: list) -> HeapNode:\n",
    "    # TODO\n",
    "    # While there is more than one node in the heap\n",
    "    # Extract the two nodes with the lowest frequency letters from the heap (remember that the letter with the lowest frequency will always be at the top of the heap)\n",
    "    # Create a new node that has the sum of the values of the two nodes as its value, and the two nodes as left and right child respectively\n",
    "    # Push this new node into the heap\n",
    "    while len(heap)>1: \n",
    "        node1 = heapq.heappop(heap)\n",
    "        node2 = heapq.heappop(heap)\n",
    "        \n",
    "        node3 = HeapNode(None, node1.value + node2.value)\n",
    "        node3.left_child = node1\n",
    "        node3.right_child = node2 \n",
    "        \n",
    "        heapq.heappush(heap, node3)\n",
    "    # Return the root of the tree\n",
    "    return heap[0]\n"
   ]
  },
  {
   "cell_type": "markdown",
   "metadata": {},
   "source": [
    "### 4 - Traversing the tree\n",
    "\n",
    "We've now made a program that can construct a Huffman tree using Huffman's algorithm. Now we want to traverse said tree and find out what the Huffman encoding is for each letter. We will do this recursively. We have created the  main function `traverse_huffman()` to set up the variables for you. Your job is to finish the implementation of `traverse_huffman_recursive()`.\n"
   ]
  },
  {
   "cell_type": "code",
   "execution_count": 27,
   "metadata": {},
   "outputs": [],
   "source": [
    "def traverse_huffman(root: HeapNode) -> dict:\n",
    "    # Stores the codes for each letter\n",
    "    codes = {}\n",
    "    # Keeps track of the current code\n",
    "    current_code = \"\"\n",
    "    # traverse recursively\n",
    "    traverse_huffman_recursive(root, current_code, codes)\n",
    "    # return finished encoding\n",
    "    return codes\n",
    "\n",
    "\n",
    "def traverse_huffman_recursive(node: HeapNode, current_code: str, codes: dict) -> None:\n",
    "    # TODO if there exists a character in the node,\n",
    "    # append current_code as the value and the character\n",
    "    # as the key in codes and return\n",
    "    if node.character != None:\n",
    "        codes[node.character] = current_code\n",
    "    \n",
    "        return\n",
    "    # TODO make the recursive calls, there should be two,\n",
    "    # one for the left side of the tree and one for the right\n",
    "    # When you traverse to the left, append 0 to the current code,\n",
    "    # and 1 if you traverse to the right\n",
    "    traverse_huffman_recursive(node.left_child, current_code  + \"0\", codes) \n",
    "    traverse_huffman_recursive(node.right_child, current_code + \"1\", codes)\n",
    "    return\n"
   ]
  },
  {
   "cell_type": "markdown",
   "metadata": {},
   "source": [
    "### Running the program\n",
    "\n",
    "Here we have a main function to run the whole program, use it to test if you get the correct output: \n"
   ]
  },
  {
   "cell_type": "code",
   "execution_count": 28,
   "metadata": {},
   "outputs": [
    {
     "name": "stdout",
     "output_type": "stream",
     "text": [
      "{'C': '00', 'E': '01', 'D': '100', 'A': '101', 'B': '11'}\n"
     ]
    }
   ],
   "source": [
    "def main():\n",
    "    text = \"ABBBBCCCDDEEEEAAAEEBBBCC\"\n",
    "    heap = make_frequency_heap(text)\n",
    "    root = merge_code(heap)\n",
    "    encoding = traverse_huffman(root)\n",
    "    print(encoding)\n",
    "\n",
    "\n",
    "main()\n"
   ]
  },
  {
   "cell_type": "markdown",
   "metadata": {},
   "source": [
    "Expected output: `{'C': '00', 'E': '01', 'D': '100', 'A': '101', 'B': '11'}`\n"
   ]
  }
 ],
 "metadata": {
  "kernelspec": {
   "display_name": "Python 3.8.8 ('base')",
   "language": "python",
   "name": "python3"
  },
  "language_info": {
   "codemirror_mode": {
    "name": "ipython",
    "version": 3
   },
   "file_extension": ".py",
   "mimetype": "text/x-python",
   "name": "python",
   "nbconvert_exporter": "python",
   "pygments_lexer": "ipython3",
   "version": "3.8.8"
  },
  "orig_nbformat": 4,
  "vscode": {
   "interpreter": {
    "hash": "e9513caba5b2a959f8275e75f586981e5fea00fff7df253fdbf3b726cc4efa95"
   }
  }
 },
 "nbformat": 4,
 "nbformat_minor": 2
}
