{
 "cells": [
  {
   "cell_type": "markdown",
   "metadata": {},
   "source": [
    "# Assignment 2 - Graphs \n",
    "## Part 2"
   ]
  },
  {
   "cell_type": "markdown",
   "metadata": {},
   "source": [
    "### Task 1: BFS to find shortest path\n",
    "\n",
    "For this task we will use the Breadth First Search algorithm to find the shortest path in a directed, unweighted, acyclic graph. The graph is represented by a dictionary where the keys are the nodes and the values are the edges.\n",
    "\n",
    "> Example: ``\"a\": [\"b\", \"c\"]`` means that the node \"a\" has edges to \"b\" and \"c\". To get these edges you can do:\n",
    "> ```python\n",
    "> node = \"a\"\n",
    "> edges = graph[node]\n",
    "> ```\n",
    "\n",
    "The graph below is the one from the assignment description."
   ]
  },
  {
   "cell_type": "code",
   "execution_count": 1,
   "metadata": {},
   "outputs": [],
   "source": [
    "graph: dict = {\n",
    "    \"a\": [\"b\", \"d\"],\n",
    "    \"b\": [\"c\"],\n",
    "    \"c\": [\"f\"],\n",
    "    \"d\": [\"e\"],\n",
    "    \"e\": [\"b\", \"f\"],\n",
    "    \"f\": [],\n",
    "}\n"
   ]
  },
  {
   "cell_type": "markdown",
   "metadata": {},
   "source": [
    "Your task is to implement the `BFS()` function described below. The function takes the graph, a start node and an end node as input and returns the shortest path between the two nodes as a list.\n",
    "\n",
    "> Tip: In order to find the shortest path to the end node you need to keep track of the shortest path to all the nodes you discover during your search. This can also be done in a dictionary. As an example below you see that the shortest path to the start node is only itself as the path to it from itself is the shortest path. You will also need to keep track of which nodes are visited, and which nodes you should visit next. \n",
    "> ```python\n",
    "> shortest_paths = {\n",
    ">     start_node: [start_node],\n",
    "> }\n",
    "> ```"
   ]
  },
  {
   "cell_type": "code",
   "execution_count": 2,
   "metadata": {},
   "outputs": [
    {
     "name": "stdout",
     "output_type": "stream",
     "text": [
      "[]\n"
     ]
    }
   ],
   "source": [
    "def BFS(graph: dict, start_node: str, end_node: str) -> list:\n",
    "    shortest_paths = {\n",
    "        start_node: [start_node],\n",
    "    }\n",
    "    # nodes already checked\n",
    "    visited = []\n",
    "    # nodes \"discovered\" through the graph, yet to be checked\n",
    "    queue = [start_node]\n",
    "    \n",
    "    return []\n",
    "\n",
    "\n",
    "# Testing the function\n",
    "shortest_path = BFS(graph, \"a\", \"f\")\n",
    "print(shortest_path)\n"
   ]
  },
  {
   "cell_type": "markdown",
   "metadata": {},
   "source": [
    "### Task 2: Algorithm to find all topological orders\n",
    "\n",
    "In this task you will implement an algorithm to find all topological orders of a directed, unweighted, acyclic graph. The graph is represented the same as in the previous task. "
   ]
  },
  {
   "cell_type": "code",
   "execution_count": 3,
   "metadata": {},
   "outputs": [],
   "source": [
    "graph: dict = {\n",
    "    \"a\": [\"c\", \"d\"],\n",
    "    \"b\": [\"d\", \"e\"],\n",
    "    \"c\": [\"f\"],\n",
    "    \"d\": [],\n",
    "    \"e\": [],\n",
    "    \"f\": [\"e\"],\n",
    "}\n"
   ]
  },
  {
   "cell_type": "markdown",
   "metadata": {},
   "source": [
    "The algorithm works as follows:\n",
    "\n",
    "- We keep track of the number of incoming edges for each node.\n",
    "- We iterate over all the nodes in the graph, \n",
    "  - recursively call the function\n",
    "\n",
    "To start, first implement a function that counts the number of incoming edges for each node. The function should return a dictionary where the keys are the nodes and the values are the number of incoming edges.\n",
    "\n",
    "> Example: \n",
    "> ``{'a': 0, 'b': 2, 'c': 1}``"
   ]
  },
  {
   "cell_type": "code",
   "execution_count": 4,
   "metadata": {},
   "outputs": [
    {
     "name": "stdout",
     "output_type": "stream",
     "text": [
      "{}\n"
     ]
    }
   ],
   "source": [
    "def find_incoming_edges(graph: dict) -> dict:\n",
    "    incoming_edges = {}\n",
    "\n",
    "    return incoming_edges\n",
    "\n",
    "\n",
    "# Testing the function\n",
    "incoming_edges = find_incoming_edges(graph)\n",
    "print(incoming_edges)\n"
   ]
  },
  {
   "cell_type": "markdown",
   "metadata": {},
   "source": [
    "Next you have to implement the recursive function that will find all topological orders. To guide you, parts of the function are already implemented, your job is to implement what is described in the \"TODO\" comments. The result of the function should a list of strings, where each string is a topological order of the graph.\n",
    "\n",
    "> Example: ``[\"abcde\", \"abedc\", \"abdec\"]`` for a graph with 3 topological orders."
   ]
  },
  {
   "cell_type": "code",
   "execution_count": 5,
   "metadata": {},
   "outputs": [
    {
     "name": "stdout",
     "output_type": "stream",
     "text": [
      "Found 0 topological orderings:\n"
     ]
    }
   ],
   "source": [
    "def find_all_topological_orders(\n",
    "    graph: dict,\n",
    "    incoming_edges: dict = incoming_edges,\n",
    "    visited: list = [],\n",
    "    path: list = [],\n",
    ") -> list:\n",
    "\n",
    "    topological_orders = []\n",
    "\n",
    "    for node in graph.keys():\n",
    "\n",
    "        # TODO We only want to check nodes that dont have incoming edges,\n",
    "        # and haven't already been visited\n",
    "        if node in visited:\n",
    "            continue\n",
    "\n",
    "        # TODO \"remove\" the edges coming from the visited node (decrease incoming_edge count for the edges)\n",
    "        # and add the node to the path while setting it as visited\n",
    "        visited.append(node)\n",
    "\n",
    "        # Recursively do this with the graph that now has the node \"removed\"\n",
    "        topological_orders.extend(\n",
    "            find_all_topological_orders(\n",
    "                graph,\n",
    "                incoming_edges,\n",
    "                visited,\n",
    "                path,\n",
    "            )\n",
    "        )\n",
    "\n",
    "        # TODO backtrack:\n",
    "        # We want to reset the changes we made above the recursive call so we can check other options\n",
    "\n",
    "    # If the path includes all nodes in the graph, we have a valid topological order\n",
    "    if len(path) == len(graph.keys()):\n",
    "        topological_orders.append(\"\".join(path))\n",
    "\n",
    "    return topological_orders\n",
    "\n",
    "\n",
    "# Testing the function\n",
    "orders = find_all_topological_orders(graph)\n",
    "print(f\"Found {len(orders)} topological orderings:\")\n",
    "for order in orders:\n",
    "    print(order)\n"
   ]
  }
 ],
 "metadata": {
  "kernelspec": {
   "display_name": "Python 3.9.13 64-bit",
   "language": "python",
   "name": "python3"
  },
  "language_info": {
   "codemirror_mode": {
    "name": "ipython",
    "version": 3
   },
   "file_extension": ".py",
   "mimetype": "text/x-python",
   "name": "python",
   "nbconvert_exporter": "python",
   "pygments_lexer": "ipython3",
   "version": "3.9.13"
  },
  "orig_nbformat": 4,
  "vscode": {
   "interpreter": {
    "hash": "aee8b7b246df8f9039afb4144a1f6fd8d2ca17a180786b69acc140d282b71a49"
   }
  }
 },
 "nbformat": 4,
 "nbformat_minor": 2
}
