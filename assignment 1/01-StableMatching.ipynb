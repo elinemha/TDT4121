{
 "cells": [
  {
   "cell_type": "markdown",
   "metadata": {},
   "source": [
    "# Assigment 1 - Problems, Algorithms and Asymtptotic notation\n",
    "## Part 2 - Gale-Shapley"
   ]
  },
  {
   "cell_type": "markdown",
   "metadata": {},
   "source": [
    "### Introduction to the problem\n",
    "In this exercise, we will be implementing a version of the *Gale-Shapley* algorithm using Python. We will be basing it on the pseudo-code in the book. Before you start working on this exercise, it is essential that you *understand* the first chapter of the book and the following pseudo-code:\n",
    "\n",
    "```Initially all m ∈ M and w ∈ W are free\n",
    "While there is a man m who is free and hasn’t proposed to\n",
    "every woman\n",
    "    Choose such a man m\n",
    "    Let w be the highest-ranked woman in m’s preference list\n",
    "        to whom m has not yet proposed\n",
    "    If w is free then\n",
    "        (m, w) become engaged\n",
    "    Else w is currently engaged to m'\n",
    "        If w prefers m' to m then\n",
    "            m remains free\n",
    "        Else w prefers m to m'     \n",
    "            (m, w) become engaged\n",
    "            m' becomes free\n",
    "        Endif\n",
    "    Endif\n",
    "Endwhile\n",
    "Return the set S of engaged pairs\n",
    "```\n",
    "\n",
    "As you can see the code is quite extensive, but let's break it down into bitable chunks:\n",
    "We will start with the required data types, first lets define our dataset for this example:\n",
    "\n",
    "**Men**  \n",
    "```\n",
    "Bruce:  [ Talia, Selina, Pamela]  \n",
    "Tim:    [Pamela, Selina,  Talia]  \n",
    "Alfred: [Pamela,  Talia, Selina]\n",
    "```\n",
    "\n",
    "**Women**  \n",
    "```\n",
    "Selina: [Bruce,    Tim, Alfred]  \n",
    "Talia:  [Bruce, Alfred,    Tim]  \n",
    "Pamela: [Tim,   Alfred,  Bruce]\n",
    "```\n",
    "\n",
    "\n",
    "Where each man and woman is listed with their preference-list , where the lowest index is the best. Meaning Bruce prefers Talia the most and Pamela the least. "
   ]
  },
  {
   "cell_type": "markdown",
   "metadata": {},
   "source": [
    "### 1 - Data structures setup\n",
    "Now, let's set up the data structures. We will use two dictionaries to keep track of the men and women, respectively, along with their preferences, with the name of the man or woman being the key. And the preference list being the value. \n",
    "\n",
    "In the code, we have also defined the named tuple `Pair`.\n",
    "\n",
    "#### Tips and tricks\n",
    "If you are a bit rusty on Python syntax, it is recommended that you read about [dictionaries](https://www.w3schools.com/python/python_dictionaries.asp) and [named tuples](https://www.geeksforgeeks.org/namedtuple-in-python/)"
   ]
  },
  {
   "cell_type": "code",
   "execution_count": 24,
   "metadata": {},
   "outputs": [
    {
     "name": "stdout",
     "output_type": "stream",
     "text": [
      "m_pref: {'bruce': ['talia', 'selina', 'pamela'], 'tim': ['pamela', 'selina', 'talia'], 'alfred': ['pamela', 'talia', 'selina']}\n",
      "f_pref: {'selina': ['bruce', 'tim', 'alfred'], 'talia': ['bruce', 'alfred', 'tim'], 'pamela': ['tim', 'alfred', 'bruce']}\n"
     ]
    }
   ],
   "source": [
    "from collections import namedtuple\n",
    "\n",
    "# Filled in names of the men and their preferences from the dataset above, key = name, value = preference list\n",
    "m_pref = {\n",
    "    \"bruce\": [\"talia\", \"selina\", \"pamela\"],\n",
    "    \"tim\": [\"pamela\", \"selina\", \"talia\"],\n",
    "    \"alfred\": [\"pamela\", \"talia\", \"selina\"] \n",
    "}\n",
    "\n",
    "# Filled in names of the women and their preferences from the dataset above, key = name, value = preference list\n",
    "w_pref = {\n",
    "    \"selina\": [\"bruce\", \"tim\", \"alfred\"],\n",
    "    \"talia\": [\"bruce\", \"alfred\", \"tim\"],\n",
    "    \"pamela\": [\"tim\", \"alfred\", \"bruce\"]\n",
    "}\n",
    "\n",
    "# Sets up the Pair tuple: Named tuple with two elements: man and woman\n",
    "Pair = namedtuple(\"Pair\", \"man woman\")\n",
    "\n",
    "# Prints to test if it is inputted it correctly\n",
    "print(f\"m_pref: {m_pref}\\nf_pref: {w_pref}\")\n"
   ]
  },
  {
   "cell_type": "markdown",
   "metadata": {},
   "source": [
    "### 2 - Free men\n",
    "The algorithm stops when there are no more free men, therefore we need to keep track of the free men. At the start, all of our men are free, so let's make a function for filling up a list with all the free men extracted from `m_pref`."
   ]
  },
  {
   "cell_type": "code",
   "execution_count": 25,
   "metadata": {},
   "outputs": [
    {
     "name": "stdout",
     "output_type": "stream",
     "text": [
      "['bruce', 'tim', 'alfred']\n"
     ]
    }
   ],
   "source": [
    "def init_free_men() -> list:\n",
    "    free_men = [\"bruce\", \"tim\", \"alfred\"]\n",
    "    # Initializes the list 'freemen' \n",
    "    # consisting of all men in m_pref, as they are all free \n",
    "    # at the start of the problem\n",
    "    return free_men\n",
    "\n",
    "\n",
    "print(init_free_men())\n"
   ]
  },
  {
   "cell_type": "markdown",
   "metadata": {},
   "source": [
    "Expected output:\n",
    "\n",
    "`['Bruce', 'Tim', 'Alfred']`"
   ]
  },
  {
   "cell_type": "markdown",
   "metadata": {},
   "source": [
    "### 3 - Finding a match for a single man\n",
    "Next, we want to implement matching a single man. We want to do this by looping through the man's preference list and then checking if he can form a matching from his preferences, fill in code under the comments marked TODO according to the pseudocode. Do *not* modify the other parts of the code. \n",
    "\n",
    "#### Tips and tricks\n",
    "Remember that that both `free_men` and `current_matching` need to be used. Also, remember that `current_matching` needs to take in the `Pair` tuple. You can create a new pair by using: \n",
    "```python\n",
    "Pair(man, woman)\n",
    "```\n",
    "You also need to think about what the conditions for the `if` statements should be. How can we use the `match` variable in the if statements? \n",
    "\n",
    "Recall that the priority of the person is determined by index, where lower index = higher priority. You can find the index of a variable in a list in python using [index()](https://www.programiz.com/python-programming/methods/list/index)"
   ]
  },
  {
   "cell_type": "code",
   "execution_count": 26,
   "metadata": {},
   "outputs": [
    {
     "ename": "SyntaxError",
     "evalue": "invalid syntax (<ipython-input-26-6459f2c67804>, line 34)",
     "output_type": "error",
     "traceback": [
      "\u001b[0;36m  File \u001b[0;32m\"<ipython-input-26-6459f2c67804>\"\u001b[0;36m, line \u001b[0;32m34\u001b[0m\n\u001b[0;31m    man_engaged =\u001b[0m\n\u001b[0m                  ^\u001b[0m\n\u001b[0;31mSyntaxError\u001b[0m\u001b[0;31m:\u001b[0m invalid syntax\n"
     ]
    }
   ],
   "source": [
    "from pickle import FALSE, TRUE\n",
    "from re import T\n",
    "\n",
    "\n",
    "def single_matching(man: str, free_men: list, current_matching: list) -> None:\n",
    "    # DO NOT MODIFY START\n",
    "    # We start by looping through the preferences of the men to find a suitable woman\n",
    "    for woman in m_pref[man]:\n",
    "        match = []\n",
    "        # We then check the return set to see if the current woman has any matches already made\n",
    "        # If she does they are saved in match\n",
    "        for pair in current_matching:\n",
    "            if pair.woman == woman:\n",
    "                match = pair\n",
    "                break\n",
    "    # DO NOT MODIFY END\n",
    "\n",
    "    # Now let's cover the 2 cases:\n",
    "    # TODO implement the following pseudocode:\n",
    "    \n",
    "    # if the woman is not in an engagement\n",
    "        # create a new pair and append it to the return set\n",
    "        # remove the man from the free list\n",
    "        # break the loop\n",
    "            for man in free_men:\n",
    "                if woman in current_matching == FALSE:\n",
    "                    current_matching.append(man, woman)\n",
    "                    free_men.remove(man)\n",
    "                    break\n",
    "                \n",
    "                else:\n",
    "                    man_proposing = m_pref[woman].index(current_matching[])\n",
    "                    man_engaged = pair.man\n",
    "\n",
    "                    if w_pref(woman).index(man_proposing) > w_pref(woman).index(man_engaged)\n",
    "\n",
    "                    \n",
    "\n",
    "    # TODO implement the following pseudocode:\n",
    "    \n",
    "    # if the woman is in an engagement:\n",
    "        # if the current man, is a lower priority then the proposing one:\n",
    "            # remove the proposing man from the free list\n",
    "            # add the current man to the free list\n",
    "            # make a new pair and append them to the return set\n",
    "            # remove the old pair from the return set\n",
    "            # break the loop\n"
   ]
  },
  {
   "cell_type": "markdown",
   "metadata": {},
   "source": [
    "### 4 - Stable matching on all pairs\n",
    "We are now ready to use the function above to create a stable matching on all pairs. We want to keep `single_matching()` running as long as there is a man on the free-list. "
   ]
  },
  {
   "cell_type": "code",
   "execution_count": null,
   "metadata": {},
   "outputs": [],
   "source": [
    "def stable_matching(free_men: list) -> list:\n",
    "    stable_matching_set = []\n",
    "    # TODO: Use single_matching() and the free list to complete the algorithm\n",
    "    return stable_matching_set\n"
   ]
  },
  {
   "cell_type": "markdown",
   "metadata": {},
   "source": [
    "### Running the algorithm\n",
    "\n",
    "Finally, if every step above is done correctly, we should be able to run the algorithm by using the main function below, verify your solution by comparing to the expected output below the cell."
   ]
  },
  {
   "cell_type": "code",
   "execution_count": null,
   "metadata": {},
   "outputs": [
    {
     "ename": "NameError",
     "evalue": "name 'init_free_men' is not defined",
     "output_type": "error",
     "traceback": [
      "\u001b[0;31m---------------------------------------------------------------------------\u001b[0m",
      "\u001b[0;31mNameError\u001b[0m                                 Traceback (most recent call last)",
      "\u001b[0;32m<ipython-input-6-baaac81ff88f>\u001b[0m in \u001b[0;36m<module>\u001b[0;34m\u001b[0m\n\u001b[1;32m      9\u001b[0m \u001b[0;34m\u001b[0m\u001b[0m\n\u001b[1;32m     10\u001b[0m \u001b[0;34m\u001b[0m\u001b[0m\n\u001b[0;32m---> 11\u001b[0;31m \u001b[0mmain\u001b[0m\u001b[0;34m(\u001b[0m\u001b[0;34m)\u001b[0m\u001b[0;34m\u001b[0m\u001b[0;34m\u001b[0m\u001b[0m\n\u001b[0m",
      "\u001b[0;32m<ipython-input-6-baaac81ff88f>\u001b[0m in \u001b[0;36mmain\u001b[0;34m()\u001b[0m\n\u001b[1;32m      1\u001b[0m \u001b[0;32mdef\u001b[0m \u001b[0mmain\u001b[0m\u001b[0;34m(\u001b[0m\u001b[0;34m)\u001b[0m\u001b[0;34m:\u001b[0m\u001b[0;34m\u001b[0m\u001b[0;34m\u001b[0m\u001b[0m\n\u001b[1;32m      2\u001b[0m     \u001b[0;31m# Runs the init_free_men() function to set up the free_men array\u001b[0m\u001b[0;34m\u001b[0m\u001b[0;34m\u001b[0m\u001b[0;34m\u001b[0m\u001b[0m\n\u001b[0;32m----> 3\u001b[0;31m     \u001b[0mfree_men\u001b[0m \u001b[0;34m=\u001b[0m \u001b[0minit_free_men\u001b[0m\u001b[0;34m(\u001b[0m\u001b[0;34m)\u001b[0m\u001b[0;34m\u001b[0m\u001b[0;34m\u001b[0m\u001b[0m\n\u001b[0m\u001b[1;32m      4\u001b[0m     \u001b[0;31m# Runs the stable matching function and return result\u001b[0m\u001b[0;34m\u001b[0m\u001b[0;34m\u001b[0m\u001b[0;34m\u001b[0m\u001b[0m\n\u001b[1;32m      5\u001b[0m     \u001b[0mmatching\u001b[0m \u001b[0;34m=\u001b[0m \u001b[0mstable_matching\u001b[0m\u001b[0;34m(\u001b[0m\u001b[0mfree_men\u001b[0m\u001b[0;34m)\u001b[0m\u001b[0;34m\u001b[0m\u001b[0;34m\u001b[0m\u001b[0m\n",
      "\u001b[0;31mNameError\u001b[0m: name 'init_free_men' is not defined"
     ]
    }
   ],
   "source": [
    "def main():\n",
    "    # Runs the init_free_men() function to set up the free_men array\n",
    "    free_men = init_free_men()\n",
    "    # Runs the stable matching function and return result\n",
    "    matching = stable_matching(free_men)\n",
    "\n",
    "    for match in matching:\n",
    "        print(f\"{match.man} <-> {match.woman}\")\n",
    "\n",
    "\n",
    "main()\n"
   ]
  },
  {
   "cell_type": "markdown",
   "metadata": {},
   "source": [
    "Expected output \n",
    "```\n",
    "Bruce <-> Talia\n",
    "Tim <-> Pamela\n",
    "Alfred <-> Selina\n",
    "```"
   ]
  }
 ],
 "metadata": {
  "interpreter": {
   "hash": "e9513caba5b2a959f8275e75f586981e5fea00fff7df253fdbf3b726cc4efa95"
  },
  "kernelspec": {
   "display_name": "Python 3.8.8 ('base')",
   "language": "python",
   "name": "python3"
  },
  "language_info": {
   "codemirror_mode": {
    "name": "ipython",
    "version": 3
   },
   "file_extension": ".py",
   "mimetype": "text/x-python",
   "name": "python",
   "nbconvert_exporter": "python",
   "pygments_lexer": "ipython3",
   "version": "3.8.8"
  },
  "orig_nbformat": 4
 },
 "nbformat": 4,
 "nbformat_minor": 2
}
