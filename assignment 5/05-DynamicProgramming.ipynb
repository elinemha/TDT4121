{
 "cells": [
  {
   "cell_type": "markdown",
   "metadata": {},
   "source": [
    "# Assignment 5 - Dynamic Programming\n",
    "## Part 2 - Sequence alignment"
   ]
  },
  {
   "cell_type": "markdown",
   "metadata": {},
   "source": [
    "Let's start by looking at the sequence alignment problem as described in the book, this task will be based on the following pseudocode from the book:\n",
    "\n",
    "```\n",
    "Alignment(X,Y)\n",
    "    Array A[0 . . . m,0... n]\n",
    "    Initialize A[i, 0]= iδ for each i\n",
    "    Initialize A[0, j]= jδ for each j\n",
    "    For j = 1, . . . , n\n",
    "        For i = 1, . . . , m\n",
    "            Use the recurrence (6.16) to compute A[i, j]\n",
    "        Endfor\n",
    "    Endfor\n",
    "    Return A[m, n]\n",
    "```\n",
    "With recurrence 6.16 being as follows:\n",
    "$OPT(i, j) = min[α_{x_{i-1}y_{j-1}} + OPT(i − 1, j − 1), δ + OPT(i − 1, j), δ + OPT(i, j − 1)]$\n",
    "\n",
    "Notice that we've made a slight change to the recurrence when compared to the book, this is to fit in with Python syntax\n",
    "\n",
    "As always, make sure that you properly understand the problem before doing these exercises, as it will greatly help you to understand and master the algorithm. "
   ]
  },
  {
   "cell_type": "markdown",
   "metadata": {},
   "source": [
    "### 1 - Setting up $\\alpha$ and $\\delta$\n",
    "Lets start by setting up alpha and delta, for this version, we'll have delta be 2. Alpha should return 1 if x and y don't match and 0 if they do. Use a [lambda function](https://www.w3schools.com/python/python_lambda.asp) to implement alpha. "
   ]
  },
  {
   "cell_type": "code",
   "execution_count": null,
   "metadata": {},
   "outputs": [],
   "source": [
    "# TODO change alpha according to the definitions above and in the book\n",
    "alpha = lambda a: a # Just som example code for the lambda function, replace it with the actual implementation\n",
    "delta = 2 # No need to change, delta is just a static value, in this case 2"
   ]
  },
  {
   "cell_type": "markdown",
   "metadata": {},
   "source": [
    "### 2 - Setting up A\n",
    "Next we want to set up A according to the pseudocode\n",
    "\n",
    "> Remember that Python is 0-indexed "
   ]
  },
  {
   "cell_type": "code",
   "execution_count": null,
   "metadata": {},
   "outputs": [],
   "source": [
    "def array_setup(n: int, m: int) -> list:\n",
    "    A = None\n",
    "    # TODO\n",
    "    # Array A[0 . . . m,0... n]\n",
    "    # Initialize A[i, 0]= iδ for each i\n",
    "    # Initialize A[0, j]= jδ for each j\n",
    "    return A\n",
    "\n",
    "\n",
    "def array_print(A: list):\n",
    "    \"\"\"Prints a 2D python list of numbers nicely\"\"\"\n",
    "    max_num_len = max((len(str(num)) for row in A for num in row))\n",
    "    for row in A:\n",
    "        print(\" \".join([f\"{' '*(max_num_len-len(str(num)))}{num}\" for num in row]))\n",
    "\n",
    "\n",
    "array_print(array_setup(7, 6))\n"
   ]
  },
  {
   "cell_type": "markdown",
   "metadata": {},
   "source": [
    "The `array_print()` function is used to test if you got the right output, expected output: \n",
    "```\n",
    " 0  2  4  6  8 10 12 14\n",
    " 2  0  0  0  0  0  0  0\n",
    " 4  0  0  0  0  0  0  0\n",
    " 6  0  0  0  0  0  0  0\n",
    " 8  0  0  0  0  0  0  0\n",
    "10  0  0  0  0  0  0  0\n",
    "12  0  0  0  0  0  0  0\n",
    "```\n"
   ]
  },
  {
   "cell_type": "markdown",
   "metadata": {},
   "source": [
    "### 3 - Implementing the algorithm\n",
    "Now after setting up the array, we want to make the algorithm. Follow the pseudocode and implement this final part"
   ]
  },
  {
   "cell_type": "code",
   "execution_count": null,
   "metadata": {},
   "outputs": [],
   "source": [
    "def alignment(x: str, y: str) -> int:\n",
    "    n = len(y)\n",
    "    m = len(x)\n",
    "    A = array_setup(n, m)\n",
    "\n",
    "    # TODO\n",
    "    # For j = 1, . . . , n\n",
    "    #    For i = 1, . . . , m\n",
    "    #         Use the recurrence (6.16) to compute A[i, j]\n",
    "    #    Endfor\n",
    "    # Endfor\n",
    "\n",
    "    array_print(A)\n",
    "    return A[m][n]\n"
   ]
  },
  {
   "cell_type": "markdown",
   "metadata": {},
   "source": [
    "### Main\n",
    "Now let's see if it all works, run the code block below to test the algorithm"
   ]
  },
  {
   "cell_type": "code",
   "execution_count": null,
   "metadata": {},
   "outputs": [],
   "source": [
    "def main():\n",
    "    x = \"PALETTE\"\n",
    "    y = \"PALATE\"\n",
    "    result = alignment(x, y)\n",
    "    print(f\"\\nAlignment: {result}\")\n",
    "\n",
    "\n",
    "main()\n"
   ]
  },
  {
   "cell_type": "markdown",
   "metadata": {},
   "source": [
    "Expected output:\n",
    "```\n",
    " 0  2  4  6  8 10 12\n",
    " 2  0  2  4  6  8 10\n",
    " 4  2  0  2  4  6  8\n",
    " 6  4  2  0  2  4  6\n",
    " 8  6  4  2  1  3  4\n",
    "10  8  6  4  3  1  3\n",
    "12 10  8  6  5  3  2\n",
    "14 12 10  8  7  5  3\n",
    "\n",
    "Alignment: 3\n",
    "```"
   ]
  }
 ],
 "metadata": {
  "kernelspec": {
   "display_name": "Python 3.9.13 64-bit",
   "language": "python",
   "name": "python3"
  },
  "language_info": {
   "codemirror_mode": {
    "name": "ipython",
    "version": 3
   },
   "file_extension": ".py",
   "mimetype": "text/x-python",
   "name": "python",
   "nbconvert_exporter": "python",
   "pygments_lexer": "ipython3",
   "version": "3.9.13"
  },
  "orig_nbformat": 4,
  "vscode": {
   "interpreter": {
    "hash": "aee8b7b246df8f9039afb4144a1f6fd8d2ca17a180786b69acc140d282b71a49"
   }
  }
 },
 "nbformat": 4,
 "nbformat_minor": 2
}
