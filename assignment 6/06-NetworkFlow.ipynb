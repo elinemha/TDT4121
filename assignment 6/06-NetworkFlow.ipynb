{
 "cells": [
  {
   "cell_type": "markdown",
   "metadata": {},
   "source": [
    "# Assignment 6 - Network Flow\n",
    "## Part 2 - Edmonds-Karp"
   ]
  },
  {
   "cell_type": "markdown",
   "metadata": {},
   "source": [
    "Below is the array representing the flow network shown in the assignment PDF. Along with it is a list of node labels the node labels."
   ]
  },
  {
   "cell_type": "code",
   "execution_count": 1,
   "metadata": {},
   "outputs": [],
   "source": [
    "capacities = [\n",
    "    #a, b, c, d, e, f\n",
    "    [0, 0, 9, 9, 0, 0],  # a\n",
    "    [9, 0, 0, 4, 5, 0],  # b\n",
    "    [0, 9, 0, 0, 0, 0],  # c\n",
    "    [0, 0, 0, 0, 9, 4],  # d\n",
    "    [0, 0, 3, 0, 0, 9],  # e\n",
    "    [0, 0, 5, 0, 0, 0],  # f\n",
    "]\n",
    "node_labels = [\"a\", \"b\", \"c\", \"d\", \"e\", \"f\"]"
   ]
  },
  {
   "cell_type": "markdown",
   "metadata": {},
   "source": [
    "### Helper Functions\n",
    "First we are going to create a couple helper functions to make implementing the algorithm a little easier, these are already implemented for you. If you decide on storing the path a different way than what is assumed in the function `path_to_str()` you need to update this function such that the output will be the same (this will make it easier for the TAs to verify that your solution is correct)."
   ]
  },
  {
   "cell_type": "code",
   "execution_count": 2,
   "metadata": {},
   "outputs": [
    {
     "name": "stdout",
     "output_type": "stream",
     "text": [
      "[0, 1, 2, 3, 4, 5] => abcdef\n"
     ]
    }
   ],
   "source": [
    "def to_str(node_index: int) -> str:\n",
    "    return node_labels[node_index]\n",
    "\n",
    "\n",
    "def to_index(node_label: str) -> int:\n",
    "    return node_labels.index(node_label)\n",
    "\n",
    "\n",
    "def path_to_str(path: list) -> str:\n",
    "    \"\"\"convert a `path (list[int])` to a easy to read string of the visited nodes\n",
    "    for instance: \"abcdef\"\"\"\n",
    "    if path is None:\n",
    "        return \"None\"\n",
    "    return \"\".join([to_str(node_index) for node_index in path])\n",
    "\n",
    "\n",
    "# Testing the function\n",
    "my_path = [0, 1, 2, 3, 4, 5]\n",
    "print(f\"{my_path} => {path_to_str(my_path)}\")\n"
   ]
  },
  {
   "cell_type": "markdown",
   "metadata": {},
   "source": [
    "Next we create another helper function. This one is python specific to prevent us rewriting our original capacities array. If we don't create a duplicate/separate array the algorithm alters, you will have to rerun the cell that initializes the original array every time you want to rerun your algorithm, which is tedious. Using this function is already included in the `edmonds_karp()` skeleton, just know why we do it. In different languages or circumstances creating the duplicate array might not be necessary."
   ]
  },
  {
   "cell_type": "code",
   "execution_count": 3,
   "metadata": {},
   "outputs": [
    {
     "name": "stdout",
     "output_type": "stream",
     "text": [
      "[[0, 0, 9, 9, 0, 0], [9, 0, 0, 4, 5, 0], [0, 9, 0, 0, 0, 0], [0, 0, 0, 0, 9, 4], [0, 0, 3, 0, 0, 9], [0, 0, 5, 0, 0, 0]]\n",
      "[[0, 0, 9, 9, 0, 0], [9, 0, 0, 4, 5, 0], [0, 9, 0, 0, 0, 0], [0, 0, 0, 0, 9, 4], [0, 0, 3, 0, 0, 9], [0, 0, 5, 0, 0, 0]]\n"
     ]
    }
   ],
   "source": [
    "def duplicate(lst: list) -> list:\n",
    "    \"\"\"Duplicate/make copy of the list given,\n",
    "    should be used to not edit original`capacities` during the algorithm\n",
    "    se we can rerun each cell individually without resetting entire notebook\n",
    "    \n",
    "    Args:\n",
    "        `lst (list[list[int]])`: the list to duplicate\"\"\"\n",
    "    return [row[:] for row in lst]\n",
    "\n",
    "\n",
    "# Testing the function\n",
    "print(f\"{capacities}\\n{duplicate(capacities)}\")\n"
   ]
  },
  {
   "cell_type": "markdown",
   "metadata": {},
   "source": [
    "### Implementing Edmonds-Karp\n",
    "With that out of the way, it's time to implement our Edmonds-Karp algorithm. Edmonds-Karp, put simply, is just Ford-Fulkerson but instead of choosing augmenting paths \"randomly\", the shortest path from the source to the sink is always used, making the output of Edmond-Karp deterministic. To do this we will use our old friend BFS. \n",
    "\n",
    "> Tip: You can reuse your BFS from assignment 2, it should just need some minor tweaks to adapt it to the flow network.\n",
    "\n",
    "Implement the BFS and verify that it finds the shortest path in the given flow network. Note that the function uses the indices of the start/end node in the capacities (`C`) array."
   ]
  },
  {
   "cell_type": "code",
   "execution_count": 4,
   "metadata": {},
   "outputs": [
    {
     "name": "stdout",
     "output_type": "stream",
     "text": [
      "None\n"
     ]
    }
   ],
   "source": [
    "def BFS(C: list, start: int, end: int):\n",
    "    \"\"\"\n",
    "    Args:\n",
    "        `C (list[list[int]])`: Capacities\n",
    "        `start (int)`: start index\n",
    "        `end (int)`: end index\n",
    "    \"\"\"\n",
    "    return None\n",
    "\n",
    "\n",
    "# Testing the function (from \"a\" to \"f\")\n",
    "print(path_to_str(BFS(capacities, start=to_index(\"a\"), end=to_index(\"f\"))))\n"
   ]
  },
  {
   "cell_type": "markdown",
   "metadata": {},
   "source": [
    "Now that we can find the shortest path, we need to actually increase the flow through this path and update the capacities accordingly.\n",
    "\n",
    "Implement this in the function below. The function should find the correct flow for the given path, update the correct values, and return the flow value."
   ]
  },
  {
   "cell_type": "code",
   "execution_count": 5,
   "metadata": {},
   "outputs": [],
   "source": [
    "def update_capacities(C: list, path: list) -> int:\n",
    "    \"\"\"\n",
    "    Args:\n",
    "        `C (list[list[int]])`: Capacities\n",
    "        `path (list[int])`: path to update capacities along\n",
    "    \"\"\"\n",
    "    return 0\n"
   ]
  },
  {
   "cell_type": "markdown",
   "metadata": {},
   "source": [
    "We are now all set to implement our Edmonds-Karp algorithm. Implement the function (using the functions created above) to find the maximum flow through the flow network given a source index and a sink index."
   ]
  },
  {
   "cell_type": "code",
   "execution_count": 6,
   "metadata": {},
   "outputs": [
    {
     "name": "stdout",
     "output_type": "stream",
     "text": [
      "Maximum Flow (b-f): 0\n"
     ]
    }
   ],
   "source": [
    "def edmonds_karp(C: list, source: int, sink: int):\n",
    "    \"\"\"\n",
    "    Args:\n",
    "        `C (list[list[int]])`: Capacities\n",
    "        `source (int)`: start index/s\n",
    "        `sink (int)`: end index/t\n",
    "    \"\"\"\n",
    "    C = duplicate(C)  # duplicate to not alter original array\n",
    "    max_flow = 0\n",
    "\n",
    "    return max_flow\n",
    "\n",
    "\n",
    "max_flow = edmonds_karp(capacities, source=to_index(\"b\"), sink=to_index(\"f\"))\n",
    "print(f\"Maximum Flow (b-f): {max_flow}\")\n"
   ]
  },
  {
   "cell_type": "code",
   "execution_count": 7,
   "metadata": {},
   "outputs": [
    {
     "name": "stdout",
     "output_type": "stream",
     "text": [
      "Maximum Flow (a-b) is 0\n",
      "Maximum Flow (a-c) is 0\n",
      "Maximum Flow (a-d) is 0\n",
      "Maximum Flow (a-e) is 0\n",
      "Maximum Flow (a-f) is 0\n",
      "Maximum Flow (b-a) is 0\n",
      "Maximum Flow (b-c) is 0\n",
      "Maximum Flow (b-d) is 0\n",
      "Maximum Flow (b-e) is 0\n",
      "Maximum Flow (b-f) is 0\n",
      "Maximum Flow (c-a) is 0\n",
      "Maximum Flow (c-b) is 0\n",
      "Maximum Flow (c-d) is 0\n",
      "Maximum Flow (c-e) is 0\n",
      "Maximum Flow (c-f) is 0\n",
      "Maximum Flow (d-a) is 0\n",
      "Maximum Flow (d-b) is 0\n",
      "Maximum Flow (d-c) is 0\n",
      "Maximum Flow (d-e) is 0\n",
      "Maximum Flow (d-f) is 0\n",
      "Maximum Flow (e-a) is 0\n",
      "Maximum Flow (e-b) is 0\n",
      "Maximum Flow (e-c) is 0\n",
      "Maximum Flow (e-d) is 0\n",
      "Maximum Flow (e-f) is 0\n",
      "Maximum Flow (f-a) is 0\n",
      "Maximum Flow (f-b) is 0\n",
      "Maximum Flow (f-c) is 0\n",
      "Maximum Flow (f-d) is 0\n",
      "Maximum Flow (f-e) is 0\n"
     ]
    }
   ],
   "source": [
    "# Finding maximum flow between all nodes (used to verify your solution)\n",
    "for i in range(len(capacities)):\n",
    "    for j in range(len(capacities[i])):\n",
    "        if i == j:\n",
    "            continue\n",
    "        max_flow = edmonds_karp(capacities, i, j)\n",
    "        print(f\"Maximum Flow ({to_str(i)}-{to_str(j)}) is {max_flow}\")\n"
   ]
  }
 ],
 "metadata": {
  "kernelspec": {
   "display_name": "Python 3.9.13 64-bit",
   "language": "python",
   "name": "python3"
  },
  "language_info": {
   "codemirror_mode": {
    "name": "ipython",
    "version": 3
   },
   "file_extension": ".py",
   "mimetype": "text/x-python",
   "name": "python",
   "nbconvert_exporter": "python",
   "pygments_lexer": "ipython3",
   "version": "3.9.13"
  },
  "orig_nbformat": 4,
  "vscode": {
   "interpreter": {
    "hash": "aee8b7b246df8f9039afb4144a1f6fd8d2ca17a180786b69acc140d282b71a49"
   }
  }
 },
 "nbformat": 4,
 "nbformat_minor": 2
}
